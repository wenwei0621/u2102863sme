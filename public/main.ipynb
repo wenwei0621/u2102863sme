{
 "cells": [
  {
   "cell_type": "code",
   "execution_count": 12,
   "metadata": {},
   "outputs": [
    {
     "name": "stdout",
     "output_type": "stream",
     "text": [
      " * Serving Flask app '__main__'\n",
      " * Debug mode: off\n"
     ]
    },
    {
     "name": "stderr",
     "output_type": "stream",
     "text": [
      "WARNING: This is a development server. Do not use it in a production deployment. Use a production WSGI server instead.\n",
      " * Running on all addresses (0.0.0.0)\n",
      " * Running on http://127.0.0.1:5000\n",
      " * Running on http://192.168.100.96:5000\n",
      "Press CTRL+C to quit\n",
      "127.0.0.1 - - [04/Jan/2025 01:08:36] \"OPTIONS /recommend HTTP/1.1\" 200 -\n",
      "127.0.0.1 - - [04/Jan/2025 01:08:36] \"POST /recommend HTTP/1.1\" 200 -\n"
     ]
    },
    {
     "name": "stdout",
     "output_type": "stream",
     "text": [
      "{'Category': '', 'Duration': '2-3 hours', 'Participants': '', 'SDG': 'Industry, Innovation, and Infrastructure'}\n",
      "[{'Activity': 'Yoga classes', 'Duration': '2-3 hours', 'Category': 'Arts and Creativity', 'Participants': 15, 'SDG': 'Industry, Innovation, and Infrastructure'}, {'Activity': 'Research project presentations', 'Duration': '2-3 hours', 'Category': 'Community Engagement', 'Participants': 15, 'SDG': 'Industry, Innovation, and Infrastructure'}, {'Activity': 'Dorm badminton league', 'Duration': '2-3 hours', 'Category': 'Arts and Creativity', 'Participants': 15, 'SDG': 'Industry, Innovation, and Infrastructure'}, {'Activity': 'Social media branding workshops', 'Duration': '2-3 hours', 'Category': 'Innovation and Technology', 'Participants': 15, 'SDG': 'Industry, Innovation, and Infrastructure'}, {'Activity': 'Fan art contests', 'Duration': '2-3 hours', 'Category': 'Cultural Exchange', 'Participants': 15, 'SDG': 'Industry, Innovation, and Infrastructure'}]\n"
     ]
    },
    {
     "name": "stderr",
     "output_type": "stream",
     "text": [
      "127.0.0.1 - - [04/Jan/2025 01:08:37] \"POST /recommend HTTP/1.1\" 200 -\n"
     ]
    },
    {
     "name": "stdout",
     "output_type": "stream",
     "text": [
      "{'Category': '', 'Duration': '2-3 hours', 'Participants': '', 'SDG': 'Industry, Innovation, and Infrastructure'}\n",
      "[{'Activity': 'Archery competitions', 'Duration': '2-3 hours', 'Category': 'Arts and Creativity', 'Participants': 15, 'SDG': 'Industry, Innovation, and Infrastructure'}, {'Activity': 'App-based dorm management ideas', 'Duration': '2-3 hours', 'Category': 'Sports and Recreation', 'Participants': 15, 'SDG': 'Industry, Innovation, and Infrastructure'}, {'Activity': 'Drama or skit night', 'Duration': '2-3 hours', 'Category': 'Sports and Recreation', 'Participants': 15, 'SDG': 'Industry, Innovation, and Infrastructure'}, {'Activity': 'Dorm storytelling evenings', 'Duration': '2-3 hours', 'Category': 'Arts and Creativity', 'Participants': 20, 'SDG': 'Industry, Innovation, and Infrastructure'}, {'Activity': 'Biking expeditions', 'Duration': '2-3 hours', 'Category': 'Community Engagement', 'Participants': 20, 'SDG': 'Industry, Innovation, and Infrastructure'}]\n"
     ]
    },
    {
     "name": "stderr",
     "output_type": "stream",
     "text": [
      "127.0.0.1 - - [04/Jan/2025 01:08:38] \"POST /recommend HTTP/1.1\" 200 -\n"
     ]
    },
    {
     "name": "stdout",
     "output_type": "stream",
     "text": [
      "{'Category': '', 'Duration': '2-3 hours', 'Participants': '', 'SDG': 'Industry, Innovation, and Infrastructure'}\n",
      "[{'Activity': 'Data science workshops', 'Duration': '2-3 hours', 'Category': 'Arts and Creativity', 'Participants': 40, 'SDG': 'Industry, Innovation, and Infrastructure'}, {'Activity': 'Mock interviews', 'Duration': '2-3 hours', 'Category': 'Education', 'Participants': 80, 'SDG': 'Industry, Innovation, and Infrastructure'}, {'Activity': 'Dorm tea party', 'Duration': '2-3 hours', 'Category': 'Culinary Arts', 'Participants': 80, 'SDG': 'Industry, Innovation, and Infrastructure'}, {'Activity': 'Arm wrestling competitions', 'Duration': '2-3 hours', 'Category': 'Environmental Awareness', 'Participants': 150, 'SDG': 'Industry, Innovation, and Infrastructure'}, {'Activity': 'History documentary screenings', 'Duration': '2-3 hours', 'Category': 'Health and Well-being', 'Participants': 150, 'SDG': 'Industry, Innovation, and Infrastructure'}]\n"
     ]
    },
    {
     "name": "stderr",
     "output_type": "stream",
     "text": [
      "127.0.0.1 - - [04/Jan/2025 01:08:39] \"POST /recommend HTTP/1.1\" 200 -\n"
     ]
    },
    {
     "name": "stdout",
     "output_type": "stream",
     "text": [
      "{'Category': '', 'Duration': '2-3 hours', 'Participants': '', 'SDG': 'Industry, Innovation, and Infrastructure'}\n",
      "[{'Activity': 'Study groups', 'Duration': '2-3 hours', 'Category': 'Arts and Creativity', 'Participants': 150, 'SDG': 'Industry, Innovation, and Infrastructure'}, {'Activity': 'Coding hackathons', 'Duration': '2-3 hours', 'Category': 'Environmental Awareness', 'Participants': 15, 'SDG': 'Quality Education'}, {'Activity': 'Alumni networking nights', 'Duration': '2-3 hours', 'Category': 'Education', 'Participants': 15, 'SDG': 'Partnerships for the Goals'}, {'Activity': 'Christmas cookie decorating', 'Duration': '2-3 hours', 'Category': 'Education', 'Participants': 15, 'SDG': 'Quality Education'}, {'Activity': 'Hand-knitting sessions', 'Duration': '2-3 hours', 'Category': 'Environmental Awareness', 'Participants': 15, 'SDG': 'Good Health and Well-being'}]\n"
     ]
    },
    {
     "name": "stderr",
     "output_type": "stream",
     "text": [
      "127.0.0.1 - - [04/Jan/2025 01:19:47] \"OPTIONS /recommend HTTP/1.1\" 200 -\n",
      "127.0.0.1 - - [04/Jan/2025 01:19:47] \"POST /recommend HTTP/1.1\" 200 -\n"
     ]
    },
    {
     "name": "stdout",
     "output_type": "stream",
     "text": [
      "{'Category': 'Cultural Exchange', 'Duration': 'Half day', 'Participants': '', 'SDG': ''}\n",
      "[{'Activity': 'Positive dorm campaign weeks', 'Duration': 'Half day', 'Category': 'Cultural Exchange', 'Participants': 15, 'SDG': 'Industry, Innovation, and Infrastructure'}, {'Activity': 'Eating contests', 'Duration': 'Half day', 'Category': 'Cultural Exchange', 'Participants': 20, 'SDG': 'Good Health and Well-being'}, {'Activity': 'Valentine’s Day craft night', 'Duration': 'Half day', 'Category': 'Cultural Exchange', 'Participants': 40, 'SDG': 'Industry, Innovation, and Infrastructure'}, {'Activity': 'Dorm Spotify playlist challenge', 'Duration': 'Half day', 'Category': 'Cultural Exchange', 'Participants': 40, 'SDG': 'Climate Action'}, {'Activity': 'Multilingual poetry recitals', 'Duration': 'Half day', 'Category': 'Cultural Exchange', 'Participants': 80, 'SDG': 'Sustainable Cities and Communities'}]\n",
      "{'Category': 'Cultural Exchange', 'Duration': 'Half day', 'Participants': '', 'SDG': 'Good Health and Well-being'}\n"
     ]
    },
    {
     "name": "stderr",
     "output_type": "stream",
     "text": [
      "127.0.0.1 - - [04/Jan/2025 01:19:54] \"POST /recommend HTTP/1.1\" 200 -\n"
     ]
    },
    {
     "name": "stdout",
     "output_type": "stream",
     "text": [
      "[{'Activity': 'Eating contests', 'Duration': 'Half day', 'Category': 'Cultural Exchange', 'Participants': 20, 'SDG': 'Good Health and Well-being'}, {'Activity': 'Positive dorm campaign weeks', 'Duration': 'Half day', 'Category': 'Cultural Exchange', 'Participants': 15, 'SDG': 'Industry, Innovation, and Infrastructure'}, {'Activity': 'Book club discussions', 'Duration': '1 hour', 'Category': 'Cultural Exchange', 'Participants': 15, 'SDG': 'Good Health and Well-being'}, {'Activity': 'Group jogging sessions', 'Duration': 'Half day', 'Category': 'Education', 'Participants': 15, 'SDG': 'Good Health and Well-being'}, {'Activity': 'Planting herbs workshops', 'Duration': 'Half day', 'Category': 'Innovation and Technology', 'Participants': 20, 'SDG': 'Good Health and Well-being'}]\n"
     ]
    },
    {
     "name": "stderr",
     "output_type": "stream",
     "text": [
      "127.0.0.1 - - [04/Jan/2025 01:19:57] \"OPTIONS /recommend HTTP/1.1\" 200 -\n",
      "127.0.0.1 - - [04/Jan/2025 01:19:57] \"POST /recommend HTTP/1.1\" 200 -\n"
     ]
    },
    {
     "name": "stdout",
     "output_type": "stream",
     "text": [
      "{'Category': 'Cultural Exchange', 'Duration': 'Half day', 'Participants': '', 'SDG': ''}\n",
      "[{'Activity': 'DIY dorm café day', 'Duration': 'Half day', 'Category': 'Cultural Exchange', 'Participants': 150, 'SDG': 'Industry, Innovation, and Infrastructure'}, {'Activity': 'Reusable bag-making sessions', 'Duration': '1 week', 'Category': 'Cultural Exchange', 'Participants': 15, 'SDG': 'Industry, Innovation, and Infrastructure'}, {'Activity': 'Dorm custom sticker printing', 'Duration': 'Full day', 'Category': 'Cultural Exchange', 'Participants': 15, 'SDG': 'Reduced Inequalities'}, {'Activity': 'Handmade soap sessions', 'Duration': 'Half day', 'Category': 'Health and Well-being', 'Participants': 15, 'SDG': 'Climate Action'}, {'Activity': 'Sand volleyball', 'Duration': 'Half day', 'Category': 'Community Engagement', 'Participants': 15, 'SDG': 'Climate Action'}]\n"
     ]
    },
    {
     "name": "stderr",
     "output_type": "stream",
     "text": [
      "127.0.0.1 - - [04/Jan/2025 01:33:04] \"OPTIONS /recommend HTTP/1.1\" 200 -\n",
      "127.0.0.1 - - [04/Jan/2025 01:33:04] \"POST /recommend HTTP/1.1\" 200 -\n"
     ]
    },
    {
     "name": "stdout",
     "output_type": "stream",
     "text": [
      "{'Category': 'Community Engagement', 'Duration': 'Full day', 'Participants': '', 'SDG': ''}\n",
      "[{'Activity': 'Meditation under the stars', 'Duration': 'Full day', 'Category': 'Community Engagement', 'Participants': 15, 'SDG': 'Partnerships for the Goals'}, {'Activity': 'Dorm time capsule', 'Duration': 'Full day', 'Category': 'Community Engagement', 'Participants': 15, 'SDG': 'Climate Action'}, {'Activity': 'Calligraphy workshops', 'Duration': 'Full day', 'Category': 'Community Engagement', 'Participants': 20, 'SDG': 'Industry, Innovation, and Infrastructure'}, {'Activity': 'Video blogging sessions', 'Duration': 'Full day', 'Category': 'Community Engagement', 'Participants': 80, 'SDG': 'Reduced Inequalities'}, {'Activity': 'Sticker design challenges', 'Duration': 'Full day', 'Category': 'Community Engagement', 'Participants': 80, 'SDG': 'Reduced Inequalities'}]\n"
     ]
    },
    {
     "name": "stderr",
     "output_type": "stream",
     "text": [
      "127.0.0.1 - - [04/Jan/2025 01:35:46] \"OPTIONS /recommend HTTP/1.1\" 200 -\n",
      "127.0.0.1 - - [04/Jan/2025 01:35:46] \"POST /recommend HTTP/1.1\" 200 -\n"
     ]
    },
    {
     "name": "stdout",
     "output_type": "stream",
     "text": [
      "{'Category': 'Cultural Exchange', 'Duration': 'Full day', 'Participants': '', 'SDG': ''}\n",
      "[{'Activity': 'Dorm custom sticker printing', 'Duration': 'Full day', 'Category': 'Cultural Exchange', 'Participants': 15, 'SDG': 'Reduced Inequalities'}, {'Activity': 'DIY slime-making workshop', 'Duration': 'Full day', 'Category': 'Cultural Exchange', 'Participants': 20, 'SDG': 'Climate Action'}, {'Activity': 'Astronomy stargazing sessions', 'Duration': 'Full day', 'Category': 'Cultural Exchange', 'Participants': 20, 'SDG': 'Climate Action'}, {'Activity': 'Dorm pasta night', 'Duration': 'Full day', 'Category': 'Cultural Exchange', 'Participants': 20, 'SDG': 'Reduced Inequalities'}, {'Activity': 'Dorm stretching breaks', 'Duration': 'Full day', 'Category': 'Cultural Exchange', 'Participants': 40, 'SDG': 'Good Health and Well-being'}]\n"
     ]
    }
   ],
   "source": [
    "import pandas as pd\n",
    "from flask import Flask, request, jsonify\n",
    "from sklearn.metrics.pairwise import cosine_similarity\n",
    "from flask_cors import CORS\n",
    "\n",
    "# Initialize Flask app\n",
    "app = Flask(__name__)\n",
    "CORS(app)  # Enable CORS\n",
    "\n",
    "# Load the activity data\n",
    "try:\n",
    "    activity_data = pd.read_csv('Events.csv')  # Replace with your file name\n",
    "    activity_data.columns = activity_data.columns.str.strip()  # Clean column names\n",
    "    activity_data['Participants'] = activity_data['Participants'].astype(int)  # Ensure numeric type for Participants\n",
    "except Exception as e:\n",
    "    raise RuntimeError(f\"Failed to load activity data: {e}\")\n",
    "\n",
    "# One-hot encode features for cosine similarity\n",
    "activity_features = pd.get_dummies(activity_data[['Duration', 'Category', 'Participants', 'SDG']])\n",
    "\n",
    "# In-memory storage to track user sessions and suggested activities\n",
    "session_store = {}\n",
    "\n",
    "@app.route('/recommend', methods=['POST'])\n",
    "def recommend():\n",
    "    try:\n",
    "        input_data = request.get_json()\n",
    "\n",
    "        if not input_data:\n",
    "            return jsonify({\"error\": \"Input data is required\"}), 400\n",
    "\n",
    "        print(input_data)\n",
    "        # Ensure at least 2 features are provided\n",
    "        required_features = ['Duration', 'Category', 'Participants', 'SDG']\n",
    "        selected_features = [key for key in required_features if key in input_data and input_data[key]]\n",
    "        \n",
    "        if len(selected_features) < 2:\n",
    "            return jsonify({\"error\": \"Please select at least 2 features for filtering.\"}), 400\n",
    "        \n",
    "        # Create a unique session ID based on input data (you can use client-specific identifiers)\n",
    "        session_id = str(input_data)\n",
    "        \n",
    "        # Filter the dataset based on selected features\n",
    "        filtered_data = activity_data.copy()\n",
    "        strict_match_count = 0\n",
    "        \n",
    "        for feature in selected_features:\n",
    "            filtered_data = filtered_data[filtered_data[feature] == input_data[feature]]\n",
    "            strict_match_count += 1\n",
    "\n",
    "            # Stop filtering after two strict matches\n",
    "            if strict_match_count == 2:\n",
    "                break\n",
    "        for feature in selected_features:\n",
    "            filtered_data = filtered_data[filtered_data[feature] == input_data[feature]]\n",
    "        \n",
    "        # If no matching activities are found, use the entire dataset as a fallback\n",
    "        if filtered_data.empty:\n",
    "            filtered_data = activity_data\n",
    "        \n",
    "        # One-hot encode input data for similarity scoring\n",
    "        input_df = pd.DataFrame([input_data])\n",
    "        input_features = pd.get_dummies(input_df)\n",
    "        input_features = input_features.reindex(columns=activity_features.columns, fill_value=0)\n",
    "\n",
    "        # Calculate cosine similarity with the filtered (or entire) dataset\n",
    "        filtered_features = pd.get_dummies(filtered_data[['Duration', 'Category', 'Participants', 'SDG']])\n",
    "        filtered_features = filtered_features.reindex(columns=activity_features.columns, fill_value=0)\n",
    "\n",
    "        similarity_scores = cosine_similarity(input_features, filtered_features)\n",
    "\n",
    "        # Rank activities by weighted similarity\n",
    "        weights = {'Category': 4, 'Duration': 2, 'Participants': 2, 'SDG': 1}\n",
    "        weighted_scores = (\n",
    "            similarity_scores[0] *\n",
    "            filtered_features.mul(\n",
    "                filtered_features.columns.map(\n",
    "                    lambda col: weights.get(col.split('_')[0], 1)\n",
    "                ),\n",
    "                axis=1\n",
    "            ).sum(axis=1).values\n",
    "        )\n",
    "        \n",
    "        # Track already suggested indices for this session\n",
    "        if session_id not in session_store:\n",
    "            session_store[session_id] = set()  # Initialize session storage\n",
    "\n",
    "        # Exclude previously suggested activities\n",
    "        available_indices = [i for i in range(len(filtered_data)) if i not in session_store[session_id]]\n",
    "\n",
    "        # If no more activities are available, reset the session for cyclic suggestions\n",
    "        if not available_indices:\n",
    "            session_store[session_id].clear()  # Reset the session store\n",
    "            available_indices = list(range(len(filtered_data)))\n",
    "\n",
    "        # Get top 5 activities based on similarity\n",
    "        top_indices = sorted(available_indices, key=lambda i: weighted_scores[i], reverse=True)[:5]\n",
    "        matched_activities = filtered_data.iloc[top_indices].to_dict(orient='records')\n",
    "\n",
    "        # If fewer than 5 activities are matched, fill the remainder with fallback activities\n",
    "        if len(matched_activities) < 5:\n",
    "            fallback_data = activity_data[~activity_data.index.isin(filtered_data.index)]\n",
    "            fallback_features = pd.get_dummies(fallback_data[['Duration', 'Category', 'Participants', 'SDG']])\n",
    "            fallback_features = fallback_features.reindex(columns=activity_features.columns, fill_value=0)\n",
    "            fallback_similarity_scores = cosine_similarity(input_features, fallback_features)\n",
    "            fallback_top_indices = fallback_similarity_scores[0].argsort()[::-1][: (5 - len(matched_activities))]\n",
    "            fallback_activities = fallback_data.iloc[fallback_top_indices].to_dict(orient='records')\n",
    "            matched_activities.extend(fallback_activities)\n",
    "\n",
    "        # Update session store with the indices of suggested activities\n",
    "        session_store[session_id].update(top_indices)\n",
    "        print(matched_activities)\n",
    "\n",
    "        return jsonify(matched_activities)\n",
    "    except Exception as e:\n",
    "        return jsonify({\"error\": f\"An error occurred: {str(e)}\"}), 500\n",
    "\n",
    "\n",
    "if __name__ == \"__main__\":\n",
    "    app.run(host=\"0.0.0.0\", port=5000)\n"
   ]
  }
 ],
 "metadata": {
  "kernelspec": {
   "display_name": "Python 3",
   "language": "python",
   "name": "python3"
  },
  "language_info": {
   "codemirror_mode": {
    "name": "ipython",
    "version": 3
   },
   "file_extension": ".py",
   "mimetype": "text/x-python",
   "name": "python",
   "nbconvert_exporter": "python",
   "pygments_lexer": "ipython3",
   "version": "3.10.4"
  }
 },
 "nbformat": 4,
 "nbformat_minor": 2
}
